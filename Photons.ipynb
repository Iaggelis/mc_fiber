{
 "cells": [
  {
   "cell_type": "code",
   "execution_count": 1,
   "metadata": {},
   "outputs": [
    {
     "name": "stdout",
     "output_type": "stream",
     "text": [
      "Welcome to JupyROOT 6.16/00\n"
     ]
    }
   ],
   "source": [
    "import ROOT"
   ]
  },
  {
   "cell_type": "code",
   "execution_count": 2,
   "metadata": {},
   "outputs": [],
   "source": [
    "def fill_tree(treename, filename, size):\n",
    "#     Enable multi-threading\n",
    "#     ROOT.ROOT.EnableImplicitMT()\n",
    "    photons = ROOT.ROOT.RDataFrame(size)\n",
    "    photons.Define(\"x\", \"gRandom->Uniform(0, 1)\")\\\n",
    "        .Define(\"y\", \"gRandom->Uniform(0, 1)\")\\\n",
    "        .Snapshot(treename, filename)\n",
    "    # Disable multi-threading\n",
    "#     ROOT.ROOT.DisableImplicitMT()\n",
    "\n",
    "    "
   ]
  },
  {
   "cell_type": "code",
   "execution_count": 3,
   "metadata": {},
   "outputs": [],
   "source": [
    "filename = 'photons_py.root'\n",
    "treename = 'myTree'\n",
    "size = 1000\n",
    "fill_tree(treename, filename, size)"
   ]
  },
  {
   "cell_type": "code",
   "execution_count": 6,
   "metadata": {},
   "outputs": [],
   "source": [
    "RDF = ROOT.ROOT.RDataFrame\n",
    "photons = RDF(treename, filename)"
   ]
  },
  {
   "cell_type": "code",
   "execution_count": 7,
   "metadata": {},
   "outputs": [],
   "source": [
    "filter1 = photons.Define(\"r\",\"sqrt(x*x+y*y)\").Filter('r<=1.0',\"Radius cut\")\\\n",
    "                .Define(\"phi\",\"gRandom->Uniform(0, 2.0*M_PI)\")\\\n",
    "                .Define(\"salpha\",\"r*sin(phi)\")\\\n",
    "                .Define(\"ctheta\",\"gRandom->Uniform()\")"
   ]
  },
  {
   "cell_type": "code",
   "execution_count": 8,
   "metadata": {},
   "outputs": [
    {
     "name": "stdout",
     "output_type": "stream",
     "text": [
      "Radius cut: pass=781        all=1000       -- eff=78.10 % cumulative eff=78.10 %\n"
     ]
    }
   ],
   "source": [
    "report = filter1.Report()\n",
    "report.Print()"
   ]
  },
  {
   "cell_type": "code",
   "execution_count": 9,
   "metadata": {},
   "outputs": [
    {
     "name": "stdout",
     "output_type": "stream",
     "text": [
      "r          | phi        | salpha      | ctheta       | x          | y          | \n",
      "0.98846483 | 5.4534714  | -0.72922835 | 0.33499208   | 0.28261781 | 0.94720108 | \n",
      "0.53746085 | 2.0591315  | 0.47463983  | 0.78513680   | 0.23165654 | 0.48497361 | \n",
      "0.91606636 | 3.4445710  | -0.27332138 | 0.049146984  | 0.54004366 | 0.73995298 | \n",
      "0.86411302 | 2.6250158  | 0.42679110  | 0.0026887520 | 0.31563762 | 0.80440301 | \n",
      "0.54632936 | 0.90345789 | 0.42912624  | 0.092608067  | 0.51967212 | 0.16857242 | \n"
     ]
    }
   ],
   "source": [
    "p = filter1.Display(\"\")\n",
    "p.Print()"
   ]
  },
  {
   "cell_type": "code",
   "execution_count": null,
   "metadata": {},
   "outputs": [],
   "source": []
  }
 ],
 "metadata": {
  "kernelspec": {
   "display_name": "Python 3",
   "language": "python",
   "name": "python3"
  },
  "language_info": {
   "codemirror_mode": {
    "name": "ipython",
    "version": 3
   },
   "file_extension": ".py",
   "mimetype": "text/x-python",
   "name": "python",
   "nbconvert_exporter": "python",
   "pygments_lexer": "ipython3",
   "version": "3.6.8"
  }
 },
 "nbformat": 4,
 "nbformat_minor": 2
}
